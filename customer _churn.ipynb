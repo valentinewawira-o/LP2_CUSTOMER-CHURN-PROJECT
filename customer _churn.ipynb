{
 "cells": [
  {
   "cell_type": "markdown",
   "metadata": {},
   "source": [
    "# LP2 CUSTOMER CHURN PROJECT"
   ]
  },
  {
   "cell_type": "markdown",
   "metadata": {},
   "source": [
    "<B>PROJECT DESCRIPTION<b>\n",
    "#### Customer Churn is the percentage of customers that stopped using a companys' product or service during a certain time frame.In business, understanding the primary cause of a customer churn can assist businesses to create a retention strategy to reduce customer churn and as such boost revenue.This project seeks to build a powerful machine learning pipeline that will estimate or predict the likelihood of a customer leaving vodafone or not.\n",
    "In this Project, I will: \n",
    "\n",
    "1. classify models and help the client, a telecommunication company, to understand their data.\n",
    "2. Find the lifetime value of each customer and know what factors affect the rate at which customers stop using their network.\n",
    "3. Predict if a customer will churn or not."
   ]
  },
  {
   "cell_type": "markdown",
   "metadata": {},
   "source": [
    "<b> project Workflow<b>\n",
    "\n",
    "a. hypothesis\n",
    "\n",
    "b. research questions\n",
    "\n",
    "c. import \n",
    "\n",
    "d. create variable environment\n",
    "\n",
    "d. load data"
   ]
  },
  {
   "cell_type": "markdown",
   "metadata": {},
   "source": [
    "# 1. HYPOTHESIS "
   ]
  },
  {
   "cell_type": "markdown",
   "metadata": {},
   "source": [
    "<B>NULL HYPOTHESIS:<B>\n",
    "\n",
    "the number of months the customer has stayed in the company does not affect their churn rate\n",
    "\n",
    "<B>ALTERNATIVE HYPOTHESIS:<B>\n",
    "\n",
    "the number of months the customer has stayed in the company  affect their churn rate"
   ]
  },
  {
   "cell_type": "markdown",
   "metadata": {},
   "source": [
    "# importation "
   ]
  },
  {
   "cell_type": "code",
   "execution_count": 33,
   "metadata": {},
   "outputs": [],
   "source": [
    "#import \n",
    "import numpy as np\n",
    "import pandas as pd\n",
    "import pydoc\n",
    "import pyodbc \n",
    "import sqlalchemy \n",
    "import matplotlib.pyplot as plt\n",
    "import seaborn as sns\n",
    "import statistics as stat\n",
    "from scipy import stats\n",
    "from dotenv import dotenv_values\n",
    "import warnings\n",
    "import os\n",
    "\n",
    "warnings.filterwarnings('ignore')\n",
    "\n",
    "\n",
    "\n"
   ]
  },
  {
   "cell_type": "markdown",
   "metadata": {},
   "source": [
    "<b>load data"
   ]
  },
  {
   "cell_type": "code",
   "execution_count": 37,
   "metadata": {},
   "outputs": [],
   "source": [
    "# Load environment variables from .env file into a dictionary\n",
    "environment_variable=dotenv_values('.env')\n",
    "\n",
    "# Get the values for the credentials you set in the '.env' file\n",
    "server = environment_variable.get('SERVER')\n",
    "database= environment_variable.get('DATABASE')\n",
    "username = environment_variable.get('USERNAME')\n",
    "password = environment_variable.get('PASSWORD')\n",
    "\n",
    "# a connection for server, database, username and password from the env \n",
    "connection_string = f\"DRIVER= {{SQL Server}}; SERVER ={server}; DATABASE={database}, UID={username}, PWD ={password}  MARS_Connection=yes;MinProtocolVersion=TLSv1.2;\"\n",
    "\n"
   ]
  },
  {
   "cell_type": "code",
   "execution_count": 36,
   "metadata": {},
   "outputs": [
    {
     "ename": "OperationalError",
     "evalue": "('08001', '[08001] [Microsoft][ODBC SQL Server Driver]Neither DSN nor SERVER keyword supplied (0) (SQLDriverConnect); [08001] [Microsoft][ODBC SQL Server Driver]Invalid connection string attribute (0)')",
     "output_type": "error",
     "traceback": [
      "\u001b[1;31m---------------------------------------------------------------------------\u001b[0m",
      "\u001b[1;31mOperationalError\u001b[0m                          Traceback (most recent call last)",
      "\u001b[1;32mc:\\Users\\Admin\\OneDrive\\Github\\LP2-LEARNER\\LP2_CUSTOMER-CHURN-PROJECT\\customer _churn.ipynb Cell 10\u001b[0m line \u001b[0;36m2\n\u001b[0;32m      <a href='vscode-notebook-cell:/c%3A/Users/Admin/OneDrive/Github/LP2-LEARNER/LP2_CUSTOMER-CHURN-PROJECT/customer%20_churn.ipynb#X14sZmlsZQ%3D%3D?line=0'>1</a>\u001b[0m \u001b[39m# connection to the server\u001b[39;00m\n\u001b[1;32m----> <a href='vscode-notebook-cell:/c%3A/Users/Admin/OneDrive/Github/LP2-LEARNER/LP2_CUSTOMER-CHURN-PROJECT/customer%20_churn.ipynb#X14sZmlsZQ%3D%3D?line=1'>2</a>\u001b[0m connection\u001b[39m=\u001b[39mpyodbc\u001b[39m.\u001b[39;49mconnect(connection_string)\n",
      "\u001b[1;31mOperationalError\u001b[0m: ('08001', '[08001] [Microsoft][ODBC SQL Server Driver]Neither DSN nor SERVER keyword supplied (0) (SQLDriverConnect); [08001] [Microsoft][ODBC SQL Server Driver]Invalid connection string attribute (0)')"
     ]
    }
   ],
   "source": [
    "# connection to the server\n",
    "connection=pyodbc.connect(connection_string)"
   ]
  }
 ],
 "metadata": {
  "kernelspec": {
   "display_name": "Python 3",
   "language": "python",
   "name": "python3"
  },
  "language_info": {
   "codemirror_mode": {
    "name": "ipython",
    "version": 3
   },
   "file_extension": ".py",
   "mimetype": "text/x-python",
   "name": "python",
   "nbconvert_exporter": "python",
   "pygments_lexer": "ipython3",
   "version": "3.11.3"
  }
 },
 "nbformat": 4,
 "nbformat_minor": 2
}
